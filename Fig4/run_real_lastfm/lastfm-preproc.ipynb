{
 "cells": [
  {
   "cell_type": "raw",
   "metadata": {},
   "source": [
    "lastfm-preproc.ipynb\n",
    "\n",
    "@description\n",
    "- produces preprocessed data for the last.fm example\n",
    "\n",
    "@requirement\n",
    "- download and extract hetrec2011-lastfm-2k.zip at GroupLens webpage. \n",
    "- A working URL (as of May 2021) is https://grouplens.org/datasets/hetrec-2011/\n",
    "\n",
    "\n",
    "@outputs\n",
    "\n",
    "<user information>\n",
    "- \"user_IDs_full.npy\" --- (1892,) np.array, unique IDs for users\n",
    "- \"adjmtx_full.npy\" --- (1892,1892) np.array, user-user adjacency matrix, where each column(row) number corresponds to the element of user_IDs_full.npy\n",
    "\n",
    "<item information>\n",
    "- \"item_IDs_full.npy\" --- (12133,) np.array, unique IDs for items\n",
    "- \"item_features_full.npy\" --- (12133,25) np.array, itemwise feature vectors generated from tf-idf\n",
    "\n",
    "<history> with T=50000\n",
    "- \"list_user_history.npy\" --- (50000, ) array of numpy objects, each element contains user ID to serve at each round \n",
    "- \"list_items.npy\" --- (50000, ) array of numpy objects, each element contains a list of 25 item IDs for each round\n",
    "- \"list_items_rwd1.npy\" --- (50000, ) array of numpy objects, each element contains a list of items of reward 1 for each round \n",
    "- \"list_item_features.npy\" --- (50000, ) array of numpy objects, each element contains a (N=25, d=25) array of itemwise context vectors."
   ]
  },
  {
   "cell_type": "markdown",
   "metadata": {},
   "source": [
    "The raw data of last.fm must be in the \"raw_data\" folder.  \n",
    "The outputs of this code will be saved in the \"preproc_output\" folder."
   ]
  },
  {
   "cell_type": "markdown",
   "metadata": {},
   "source": [
    "## Generate arms_feature"
   ]
  },
  {
   "cell_type": "code",
   "execution_count": 1,
   "metadata": {},
   "outputs": [],
   "source": [
    "import numpy as np\n",
    "import pandas as pd\n",
    "import math\n",
    "from sklearn.decomposition import PCA\n",
    "import networkx as nx"
   ]
  },
  {
   "cell_type": "code",
   "execution_count": 2,
   "metadata": {},
   "outputs": [
    {
     "data": {
      "text/plain": [
       "'/home/shpaik/21-aaai2022v2/Fig4/run_real_lastfm'"
      ]
     },
     "execution_count": 2,
     "metadata": {},
     "output_type": "execute_result"
    }
   ],
   "source": [
    "import os\n",
    "current_dir = os.getcwd()\n",
    "current_dir"
   ]
  },
  {
   "cell_type": "code",
   "execution_count": 3,
   "metadata": {},
   "outputs": [],
   "source": [
    "real_data_dir = current_dir + \"/\" + \"preproc_output\"\n",
    "if not os.path.exists(real_data_dir):\n",
    "    os.makedirs(real_data_dir)"
   ]
  },
  {
   "cell_type": "code",
   "execution_count": 4,
   "metadata": {},
   "outputs": [
    {
     "data": {
      "text/html": [
       "<div>\n",
       "<style scoped>\n",
       "    .dataframe tbody tr th:only-of-type {\n",
       "        vertical-align: middle;\n",
       "    }\n",
       "\n",
       "    .dataframe tbody tr th {\n",
       "        vertical-align: top;\n",
       "    }\n",
       "\n",
       "    .dataframe thead th {\n",
       "        text-align: right;\n",
       "    }\n",
       "</style>\n",
       "<table border=\"1\" class=\"dataframe\">\n",
       "  <thead>\n",
       "    <tr style=\"text-align: right;\">\n",
       "      <th></th>\n",
       "      <th>userID</th>\n",
       "      <th>artistID</th>\n",
       "      <th>tagID</th>\n",
       "      <th>day</th>\n",
       "      <th>month</th>\n",
       "      <th>year</th>\n",
       "    </tr>\n",
       "  </thead>\n",
       "  <tbody>\n",
       "    <tr>\n",
       "      <th>0</th>\n",
       "      <td>2</td>\n",
       "      <td>52</td>\n",
       "      <td>13</td>\n",
       "      <td>1</td>\n",
       "      <td>4</td>\n",
       "      <td>2009</td>\n",
       "    </tr>\n",
       "    <tr>\n",
       "      <th>1</th>\n",
       "      <td>2</td>\n",
       "      <td>52</td>\n",
       "      <td>15</td>\n",
       "      <td>1</td>\n",
       "      <td>4</td>\n",
       "      <td>2009</td>\n",
       "    </tr>\n",
       "    <tr>\n",
       "      <th>2</th>\n",
       "      <td>2</td>\n",
       "      <td>52</td>\n",
       "      <td>18</td>\n",
       "      <td>1</td>\n",
       "      <td>4</td>\n",
       "      <td>2009</td>\n",
       "    </tr>\n",
       "  </tbody>\n",
       "</table>\n",
       "</div>"
      ],
      "text/plain": [
       "   userID  artistID  tagID  day  month  year\n",
       "0       2        52     13    1      4  2009\n",
       "1       2        52     15    1      4  2009\n",
       "2       2        52     18    1      4  2009"
      ]
     },
     "execution_count": 4,
     "metadata": {},
     "output_type": "execute_result"
    }
   ],
   "source": [
    "artist_tags = pd.read_csv('raw_data/user_taggedartists.dat', sep=\"\\t\") \n",
    "artist_tags[:3]"
   ]
  },
  {
   "cell_type": "code",
   "execution_count": 5,
   "metadata": {},
   "outputs": [
    {
     "name": "stdout",
     "output_type": "stream",
     "text": [
      "   artistID  tagID  tf\n",
      "0         1    139   5\n",
      "1         1    141   3\n",
      "2         1    179   2\n",
      "3         1    541   2\n",
      "4         1    552   1\n",
      "artistID    int64\n",
      "tagID       int64\n",
      "tf          int64\n",
      "dtype: object\n",
      "12523\n",
      "tagID      int64\n",
      "count      int64\n",
      "idf      float64\n",
      "dtype: object\n",
      "   tagID  count         idf\n",
      "0      1   1729    7.238728\n",
      "1      2    212   58.793427\n",
      "2      3     22  544.478261\n",
      "3      4    301   41.466887\n",
      "4      5    582   21.480274\n",
      "     tagID  count    idf\n",
      "130    139    174  71.56\n"
     ]
    }
   ],
   "source": [
    "# artist: row, tag: column -> tf, idf\n",
    "tf = artist_tags.groupby(['artistID', 'tagID']).size().reset_index(name=\"tf\")\n",
    "artists_with_tags = artist_tags['artistID'].unique()\n",
    "N = artist_tags['artistID'].unique().shape[0]\n",
    "idf = artist_tags.groupby(['tagID']).size().reset_index(name=\"count\")\n",
    "idf[['idf']] = N / (1 + idf[['count']])\n",
    "print(tf.head())\n",
    "print(tf.dtypes)\n",
    "print(N)\n",
    "print(idf.dtypes)\n",
    "print(idf.head())\n",
    "print(idf.loc[idf.tagID==139])"
   ]
  },
  {
   "cell_type": "code",
   "execution_count": 6,
   "metadata": {},
   "outputs": [
    {
     "data": {
      "text/html": [
       "<div>\n",
       "<style scoped>\n",
       "    .dataframe tbody tr th:only-of-type {\n",
       "        vertical-align: middle;\n",
       "    }\n",
       "\n",
       "    .dataframe tbody tr th {\n",
       "        vertical-align: top;\n",
       "    }\n",
       "\n",
       "    .dataframe thead th {\n",
       "        text-align: right;\n",
       "    }\n",
       "</style>\n",
       "<table border=\"1\" class=\"dataframe\">\n",
       "  <thead>\n",
       "    <tr style=\"text-align: right;\">\n",
       "      <th></th>\n",
       "      <th>artistID</th>\n",
       "      <th>tagID</th>\n",
       "      <th>tf</th>\n",
       "      <th>count</th>\n",
       "      <th>idf</th>\n",
       "    </tr>\n",
       "  </thead>\n",
       "  <tbody>\n",
       "    <tr>\n",
       "      <th>0</th>\n",
       "      <td>1</td>\n",
       "      <td>139</td>\n",
       "      <td>5</td>\n",
       "      <td>174</td>\n",
       "      <td>71.56</td>\n",
       "    </tr>\n",
       "    <tr>\n",
       "      <th>1</th>\n",
       "      <td>4</td>\n",
       "      <td>139</td>\n",
       "      <td>6</td>\n",
       "      <td>174</td>\n",
       "      <td>71.56</td>\n",
       "    </tr>\n",
       "    <tr>\n",
       "      <th>2</th>\n",
       "      <td>8</td>\n",
       "      <td>139</td>\n",
       "      <td>8</td>\n",
       "      <td>174</td>\n",
       "      <td>71.56</td>\n",
       "    </tr>\n",
       "    <tr>\n",
       "      <th>3</th>\n",
       "      <td>372</td>\n",
       "      <td>139</td>\n",
       "      <td>1</td>\n",
       "      <td>174</td>\n",
       "      <td>71.56</td>\n",
       "    </tr>\n",
       "    <tr>\n",
       "      <th>4</th>\n",
       "      <td>376</td>\n",
       "      <td>139</td>\n",
       "      <td>5</td>\n",
       "      <td>174</td>\n",
       "      <td>71.56</td>\n",
       "    </tr>\n",
       "  </tbody>\n",
       "</table>\n",
       "</div>"
      ],
      "text/plain": [
       "   artistID  tagID  tf  count    idf\n",
       "0         1    139   5    174  71.56\n",
       "1         4    139   6    174  71.56\n",
       "2         8    139   8    174  71.56\n",
       "3       372    139   1    174  71.56\n",
       "4       376    139   5    174  71.56"
      ]
     },
     "execution_count": 6,
     "metadata": {},
     "output_type": "execute_result"
    }
   ],
   "source": [
    "# create tf-idf value\n",
    "tfidf = pd.merge(tf, idf, on=\"tagID\", how=\"outer\")\n",
    "tfidf.head()"
   ]
  },
  {
   "cell_type": "code",
   "execution_count": 7,
   "metadata": {},
   "outputs": [
    {
     "data": {
      "text/html": [
       "<div>\n",
       "<style scoped>\n",
       "    .dataframe tbody tr th:only-of-type {\n",
       "        vertical-align: middle;\n",
       "    }\n",
       "\n",
       "    .dataframe tbody tr th {\n",
       "        vertical-align: top;\n",
       "    }\n",
       "\n",
       "    .dataframe thead th {\n",
       "        text-align: right;\n",
       "    }\n",
       "</style>\n",
       "<table border=\"1\" class=\"dataframe\">\n",
       "  <thead>\n",
       "    <tr style=\"text-align: right;\">\n",
       "      <th></th>\n",
       "      <th>artistID</th>\n",
       "      <th>tagID</th>\n",
       "      <th>tf</th>\n",
       "      <th>count</th>\n",
       "      <th>idf</th>\n",
       "      <th>tfidf</th>\n",
       "    </tr>\n",
       "  </thead>\n",
       "  <tbody>\n",
       "    <tr>\n",
       "      <th>0</th>\n",
       "      <td>1</td>\n",
       "      <td>139</td>\n",
       "      <td>5</td>\n",
       "      <td>174</td>\n",
       "      <td>71.56</td>\n",
       "      <td>21.352681</td>\n",
       "    </tr>\n",
       "    <tr>\n",
       "      <th>1</th>\n",
       "      <td>4</td>\n",
       "      <td>139</td>\n",
       "      <td>6</td>\n",
       "      <td>174</td>\n",
       "      <td>71.56</td>\n",
       "      <td>25.623218</td>\n",
       "    </tr>\n",
       "    <tr>\n",
       "      <th>2</th>\n",
       "      <td>8</td>\n",
       "      <td>139</td>\n",
       "      <td>8</td>\n",
       "      <td>174</td>\n",
       "      <td>71.56</td>\n",
       "      <td>34.164290</td>\n",
       "    </tr>\n",
       "    <tr>\n",
       "      <th>3</th>\n",
       "      <td>372</td>\n",
       "      <td>139</td>\n",
       "      <td>1</td>\n",
       "      <td>174</td>\n",
       "      <td>71.56</td>\n",
       "      <td>4.270536</td>\n",
       "    </tr>\n",
       "    <tr>\n",
       "      <th>4</th>\n",
       "      <td>376</td>\n",
       "      <td>139</td>\n",
       "      <td>5</td>\n",
       "      <td>174</td>\n",
       "      <td>71.56</td>\n",
       "      <td>21.352681</td>\n",
       "    </tr>\n",
       "  </tbody>\n",
       "</table>\n",
       "</div>"
      ],
      "text/plain": [
       "   artistID  tagID  tf  count    idf      tfidf\n",
       "0         1    139   5    174  71.56  21.352681\n",
       "1         4    139   6    174  71.56  25.623218\n",
       "2         8    139   8    174  71.56  34.164290\n",
       "3       372    139   1    174  71.56   4.270536\n",
       "4       376    139   5    174  71.56  21.352681"
      ]
     },
     "execution_count": 7,
     "metadata": {},
     "output_type": "execute_result"
    }
   ],
   "source": [
    "tfidf['tfidf'] = tfidf[\"tf\"] * tfidf[\"idf\"].apply(np.log)\n",
    "tfidf.head()"
   ]
  },
  {
   "cell_type": "code",
   "execution_count": 8,
   "metadata": {},
   "outputs": [],
   "source": [
    "tfidf_fat = tfidf[['artistID', 'tagID', 'tfidf']].pivot_table(index=[\"artistID\"], columns=[\"tagID\"], )"
   ]
  },
  {
   "cell_type": "code",
   "execution_count": 9,
   "metadata": {},
   "outputs": [
    {
     "data": {
      "text/html": [
       "<div>\n",
       "<style scoped>\n",
       "    .dataframe tbody tr th:only-of-type {\n",
       "        vertical-align: middle;\n",
       "    }\n",
       "\n",
       "    .dataframe tbody tr th {\n",
       "        vertical-align: top;\n",
       "    }\n",
       "\n",
       "    .dataframe thead tr th {\n",
       "        text-align: left;\n",
       "    }\n",
       "\n",
       "    .dataframe thead tr:last-of-type th {\n",
       "        text-align: right;\n",
       "    }\n",
       "</style>\n",
       "<table border=\"1\" class=\"dataframe\">\n",
       "  <thead>\n",
       "    <tr>\n",
       "      <th></th>\n",
       "      <th colspan=\"7\" halign=\"left\">tfidf</th>\n",
       "    </tr>\n",
       "    <tr>\n",
       "      <th>tagID</th>\n",
       "      <th>139</th>\n",
       "      <th>141</th>\n",
       "      <th>179</th>\n",
       "      <th>541</th>\n",
       "      <th>552</th>\n",
       "      <th>1219</th>\n",
       "      <th>2850</th>\n",
       "    </tr>\n",
       "    <tr>\n",
       "      <th>artistID</th>\n",
       "      <th></th>\n",
       "      <th></th>\n",
       "      <th></th>\n",
       "      <th></th>\n",
       "      <th></th>\n",
       "      <th></th>\n",
       "      <th></th>\n",
       "    </tr>\n",
       "  </thead>\n",
       "  <tbody>\n",
       "    <tr>\n",
       "      <th>1</th>\n",
       "      <td>21.352681</td>\n",
       "      <td>14.431048</td>\n",
       "      <td>6.823749</td>\n",
       "      <td>7.260375</td>\n",
       "      <td>7.825884</td>\n",
       "      <td>5.503497</td>\n",
       "      <td>6.257268</td>\n",
       "    </tr>\n",
       "  </tbody>\n",
       "</table>\n",
       "</div>"
      ],
      "text/plain": [
       "              tfidf                                                     \\\n",
       "tagID          139        141       179       541       552       1219   \n",
       "artistID                                                                 \n",
       "1         21.352681  14.431048  6.823749  7.260375  7.825884  5.503497   \n",
       "\n",
       "                    \n",
       "tagID         2850  \n",
       "artistID            \n",
       "1         6.257268  "
      ]
     },
     "execution_count": 9,
     "metadata": {},
     "output_type": "execute_result"
    }
   ],
   "source": [
    "# validation 1\n",
    "mask =  pd.notna(tfidf_fat[0:1]).to_numpy().reshape(-1,)\n",
    "tfidf_fat[0:1].loc[:, mask]"
   ]
  },
  {
   "cell_type": "code",
   "execution_count": 10,
   "metadata": {},
   "outputs": [
    {
     "data": {
      "text/html": [
       "<div>\n",
       "<style scoped>\n",
       "    .dataframe tbody tr th:only-of-type {\n",
       "        vertical-align: middle;\n",
       "    }\n",
       "\n",
       "    .dataframe tbody tr th {\n",
       "        vertical-align: top;\n",
       "    }\n",
       "\n",
       "    .dataframe thead th {\n",
       "        text-align: right;\n",
       "    }\n",
       "</style>\n",
       "<table border=\"1\" class=\"dataframe\">\n",
       "  <thead>\n",
       "    <tr style=\"text-align: right;\">\n",
       "      <th></th>\n",
       "      <th>userID</th>\n",
       "      <th>artistID</th>\n",
       "      <th>tagID</th>\n",
       "      <th>day</th>\n",
       "      <th>month</th>\n",
       "      <th>year</th>\n",
       "    </tr>\n",
       "  </thead>\n",
       "  <tbody>\n",
       "    <tr>\n",
       "      <th>3037</th>\n",
       "      <td>37</td>\n",
       "      <td>1</td>\n",
       "      <td>552</td>\n",
       "      <td>1</td>\n",
       "      <td>7</td>\n",
       "      <td>2008</td>\n",
       "    </tr>\n",
       "    <tr>\n",
       "      <th>28338</th>\n",
       "      <td>274</td>\n",
       "      <td>1</td>\n",
       "      <td>1219</td>\n",
       "      <td>1</td>\n",
       "      <td>5</td>\n",
       "      <td>2008</td>\n",
       "    </tr>\n",
       "    <tr>\n",
       "      <th>64127</th>\n",
       "      <td>681</td>\n",
       "      <td>1</td>\n",
       "      <td>139</td>\n",
       "      <td>1</td>\n",
       "      <td>8</td>\n",
       "      <td>2008</td>\n",
       "    </tr>\n",
       "    <tr>\n",
       "      <th>64128</th>\n",
       "      <td>681</td>\n",
       "      <td>1</td>\n",
       "      <td>141</td>\n",
       "      <td>1</td>\n",
       "      <td>8</td>\n",
       "      <td>2008</td>\n",
       "    </tr>\n",
       "    <tr>\n",
       "      <th>76492</th>\n",
       "      <td>785</td>\n",
       "      <td>1</td>\n",
       "      <td>2850</td>\n",
       "      <td>1</td>\n",
       "      <td>8</td>\n",
       "      <td>2010</td>\n",
       "    </tr>\n",
       "    <tr>\n",
       "      <th>132763</th>\n",
       "      <td>1545</td>\n",
       "      <td>1</td>\n",
       "      <td>139</td>\n",
       "      <td>1</td>\n",
       "      <td>1</td>\n",
       "      <td>2008</td>\n",
       "    </tr>\n",
       "    <tr>\n",
       "      <th>132764</th>\n",
       "      <td>1545</td>\n",
       "      <td>1</td>\n",
       "      <td>141</td>\n",
       "      <td>1</td>\n",
       "      <td>1</td>\n",
       "      <td>2008</td>\n",
       "    </tr>\n",
       "    <tr>\n",
       "      <th>132765</th>\n",
       "      <td>1545</td>\n",
       "      <td>1</td>\n",
       "      <td>179</td>\n",
       "      <td>1</td>\n",
       "      <td>1</td>\n",
       "      <td>2008</td>\n",
       "    </tr>\n",
       "    <tr>\n",
       "      <th>132766</th>\n",
       "      <td>1545</td>\n",
       "      <td>1</td>\n",
       "      <td>541</td>\n",
       "      <td>1</td>\n",
       "      <td>1</td>\n",
       "      <td>2008</td>\n",
       "    </tr>\n",
       "    <tr>\n",
       "      <th>154399</th>\n",
       "      <td>1730</td>\n",
       "      <td>1</td>\n",
       "      <td>139</td>\n",
       "      <td>1</td>\n",
       "      <td>10</td>\n",
       "      <td>2008</td>\n",
       "    </tr>\n",
       "    <tr>\n",
       "      <th>154400</th>\n",
       "      <td>1730</td>\n",
       "      <td>1</td>\n",
       "      <td>141</td>\n",
       "      <td>1</td>\n",
       "      <td>10</td>\n",
       "      <td>2008</td>\n",
       "    </tr>\n",
       "    <tr>\n",
       "      <th>154401</th>\n",
       "      <td>1730</td>\n",
       "      <td>1</td>\n",
       "      <td>179</td>\n",
       "      <td>1</td>\n",
       "      <td>10</td>\n",
       "      <td>2008</td>\n",
       "    </tr>\n",
       "    <tr>\n",
       "      <th>154402</th>\n",
       "      <td>1730</td>\n",
       "      <td>1</td>\n",
       "      <td>541</td>\n",
       "      <td>1</td>\n",
       "      <td>10</td>\n",
       "      <td>2008</td>\n",
       "    </tr>\n",
       "    <tr>\n",
       "      <th>170777</th>\n",
       "      <td>1929</td>\n",
       "      <td>1</td>\n",
       "      <td>139</td>\n",
       "      <td>1</td>\n",
       "      <td>5</td>\n",
       "      <td>2006</td>\n",
       "    </tr>\n",
       "    <tr>\n",
       "      <th>178854</th>\n",
       "      <td>1984</td>\n",
       "      <td>1</td>\n",
       "      <td>139</td>\n",
       "      <td>1</td>\n",
       "      <td>2</td>\n",
       "      <td>2008</td>\n",
       "    </tr>\n",
       "  </tbody>\n",
       "</table>\n",
       "</div>"
      ],
      "text/plain": [
       "        userID  artistID  tagID  day  month  year\n",
       "3037        37         1    552    1      7  2008\n",
       "28338      274         1   1219    1      5  2008\n",
       "64127      681         1    139    1      8  2008\n",
       "64128      681         1    141    1      8  2008\n",
       "76492      785         1   2850    1      8  2010\n",
       "132763    1545         1    139    1      1  2008\n",
       "132764    1545         1    141    1      1  2008\n",
       "132765    1545         1    179    1      1  2008\n",
       "132766    1545         1    541    1      1  2008\n",
       "154399    1730         1    139    1     10  2008\n",
       "154400    1730         1    141    1     10  2008\n",
       "154401    1730         1    179    1     10  2008\n",
       "154402    1730         1    541    1     10  2008\n",
       "170777    1929         1    139    1      5  2006\n",
       "178854    1984         1    139    1      2  2008"
      ]
     },
     "execution_count": 10,
     "metadata": {},
     "output_type": "execute_result"
    }
   ],
   "source": [
    "# validation 2\n",
    "artist_tags.loc[artist_tags.artistID == 1]\n",
    "# looks done great"
   ]
  },
  {
   "cell_type": "code",
   "execution_count": 11,
   "metadata": {},
   "outputs": [],
   "source": [
    "# fill nan as zero\n",
    "tfidf_fat = tfidf_fat.fillna(0)"
   ]
  },
  {
   "cell_type": "code",
   "execution_count": 12,
   "metadata": {},
   "outputs": [
    {
     "name": "stdout",
     "output_type": "stream",
     "text": [
      "(12523, 9749)\n"
     ]
    }
   ],
   "source": [
    "tfidf_fat[0:10]\n",
    "print(tfidf_fat.shape)"
   ]
  },
  {
   "cell_type": "code",
   "execution_count": 13,
   "metadata": {},
   "outputs": [
    {
     "data": {
      "text/plain": [
       "PCA(n_components=25)"
      ]
     },
     "execution_count": 13,
     "metadata": {},
     "output_type": "execute_result"
    }
   ],
   "source": [
    "# extract top 25 principal component\n",
    "pca = PCA(n_components=25)\n",
    "pca.fit(tfidf_fat)"
   ]
  },
  {
   "cell_type": "code",
   "execution_count": 14,
   "metadata": {},
   "outputs": [
    {
     "name": "stdout",
     "output_type": "stream",
     "text": [
      "[0.05992843 0.03966534 0.02953625 0.02530514 0.02410847 0.01898587\n",
      " 0.01767703 0.01670187 0.0150542  0.01330877 0.01279762 0.01174547\n",
      " 0.01138243 0.01094121 0.01089693 0.0102934  0.00953206 0.00941894\n",
      " 0.00872982 0.00847102 0.00824964 0.00778215 0.00735721 0.00705921\n",
      " 0.00677507]\n",
      "0.4017035273700203\n"
     ]
    }
   ],
   "source": [
    "print(pca.explained_variance_ratio_)\n",
    "print(pca.explained_variance_ratio_.sum())"
   ]
  },
  {
   "cell_type": "code",
   "execution_count": 15,
   "metadata": {},
   "outputs": [
    {
     "data": {
      "text/plain": [
       "(12523, 25)"
      ]
     },
     "execution_count": 15,
     "metadata": {},
     "output_type": "execute_result"
    }
   ],
   "source": [
    "tfidf_pc25 = pca.fit_transform(tfidf_fat)\n",
    "tfidf_pc25.shape"
   ]
  },
  {
   "cell_type": "code",
   "execution_count": 16,
   "metadata": {},
   "outputs": [],
   "source": [
    "# feature matrix \n",
    "tfidf_pc25.shape\n",
    "np.save(\"preproc_output/item_features_full.npy\", tfidf_pc25)"
   ]
  },
  {
   "cell_type": "code",
   "execution_count": 17,
   "metadata": {},
   "outputs": [],
   "source": [
    "item_features_full = tfidf_pc25"
   ]
  },
  {
   "cell_type": "code",
   "execution_count": 18,
   "metadata": {},
   "outputs": [
    {
     "name": "stdout",
     "output_type": "stream",
     "text": [
      "12523\n"
     ]
    }
   ],
   "source": [
    "ind_items_full = artist_tags['artistID'].unique()\n",
    "ind_items_full = np.sort(ind_items_full)\n",
    "np.save(\"preproc_output/item_IDs_full.npy\", ind_items_full)\n",
    "print(ind_items_full.shape[0])"
   ]
  },
  {
   "cell_type": "code",
   "execution_count": 19,
   "metadata": {},
   "outputs": [
    {
     "name": "stdout",
     "output_type": "stream",
     "text": [
      "(1892,)\n",
      "(17632,)\n"
     ]
    }
   ],
   "source": [
    "user_items = pd.read_csv('raw_data/user_artists.dat', sep=\"\\t\") \n",
    "user_items = user_items.rename(columns={'artistID': 'itemID'})\n",
    "user_items.head()\n",
    "print(np.array(user_items[\"userID\"].unique()).shape)\n",
    "print(np.array(user_items[\"itemID\"].unique()).shape)"
   ]
  },
  {
   "cell_type": "code",
   "execution_count": 20,
   "metadata": {},
   "outputs": [
    {
     "name": "stdout",
     "output_type": "stream",
     "text": [
      "[   2    3    4 ... 2097 2099 2100]\n"
     ]
    }
   ],
   "source": [
    "# export userIDs\n",
    "user_IDs = np.sort(np.array(user_items[\"userID\"].unique()))\n",
    "print(user_IDs)\n",
    "np.save(\"preproc_output/user_IDs_full.npy\", user_IDs)"
   ]
  },
  {
   "cell_type": "code",
   "execution_count": 21,
   "metadata": {},
   "outputs": [],
   "source": [
    "user_items = user_items[['userID', 'itemID']].drop_duplicates()\n",
    "mask = np.isin(user_items['itemID'], artists_with_tags)\n",
    "user_items = user_items.loc[mask]"
   ]
  },
  {
   "cell_type": "code",
   "execution_count": 22,
   "metadata": {},
   "outputs": [
    {
     "name": "stdout",
     "output_type": "stream",
     "text": [
      "(1892,)\n",
      "(12133,)\n"
     ]
    }
   ],
   "source": [
    "print(np.array(user_items[\"userID\"].unique()).shape)\n",
    "print(np.array(user_items[\"itemID\"].unique()).shape)"
   ]
  },
  {
   "cell_type": "code",
   "execution_count": 23,
   "metadata": {},
   "outputs": [
    {
     "name": "stdout",
     "output_type": "stream",
     "text": [
      "j = 1\n",
      "0 1 2 3 4 5 6 7 8 9 10 11 12 13 14 j = 2\n",
      "0 1 2 3 4 5 6 7 8 9 10 11 12 13 14 j = 3\n",
      "0 1 2 3 4 5 6 7 8 9 10 11 12 13 14 j = 4\n",
      "0 1 2 3 4 5 6 7 8 9 10 11 12 13 14 j = 5\n",
      "0 1 2 3 4 5 6 7 8 9 10 11 12 13 14 "
     ]
    }
   ],
   "source": [
    "NUM_SAMP = 25\n",
    "num_items = 25\n",
    "TIME_HORIZON = 150000\n",
    "\n",
    "user_freqs = user_items['userID'].value_counts(normalize=True,sort=True)\n",
    "user_freqs_IDs = np.array(list(user_freqs.index))\n",
    "item_freqs = user_items['itemID'].value_counts(normalize=True,sort=True)\n",
    "item_freqs_IDs = np.array(list(item_freqs.index))\n",
    "\n",
    "for j in [1, 2, 3, 4, 5]:\n",
    "    #initialize\n",
    "    rwd1_items_list = np.empty(TIME_HORIZON, dtype=object)\n",
    "    items_list = np.empty(TIME_HORIZON, dtype=object)\n",
    "    item_features_list = np.empty(TIME_HORIZON, dtype=object)\n",
    "    user_history = np.empty(TIME_HORIZON, dtype=object)\n",
    "    print(\"j =\", j)\n",
    "    \n",
    "    for t in range(TIME_HORIZON):\n",
    "        if t % 10000 == 0:\n",
    "            print(t // 10000, end=\" \")\n",
    "        # sample one user\n",
    "        np.random.seed(t+(j*TIME_HORIZON))\n",
    "        SELECTED_USER_ind = np.random.choice(user_freqs_IDs.shape[0], 1, replace=False, p=user_freqs).item()\n",
    "        SELECTED_USER = user_freqs_IDs[SELECTED_USER_ind]\n",
    "        # print(SELECTED_USER)\n",
    "        items_of_SELECTED_USER = user_items[user_items.userID == SELECTED_USER]['itemID'].unique()\n",
    "        # print(items_of_SELECTED_USER)\n",
    "        user_history[t] = SELECTED_USER\n",
    "        \n",
    "        np.random.seed(t+10+(j*TIME_HORIZON*2))\n",
    "        ind = np.random.choice(items_of_SELECTED_USER.shape[0], 1, replace=False).item()\n",
    "        one_item_from_SELECTED_USER = items_of_SELECTED_USER[ind]\n",
    "        # print(one_item_from_SELECTED_USER)\n",
    "\n",
    "        mask = (item_freqs_IDs != one_item_from_SELECTED_USER)\n",
    "        tmp_item_freqs = np.array(item_freqs)[mask] / np.sum(np.array(item_freqs)[mask]) \n",
    "        tmp_item_freqs_IDs = item_freqs_IDs[mask]\n",
    "\n",
    "        np.random.seed(t+20+(j*TIME_HORIZON*3))\n",
    "        # sample 24 integers from 0 to (num_item-1)\n",
    "        other_chosen_items = np.random.choice(tmp_item_freqs_IDs, NUM_SAMP-1, replace=False, p=tmp_item_freqs)\n",
    "\n",
    "        chosen_item_IDs = np.sort(np.concatenate( (one_item_from_SELECTED_USER, other_chosen_items) , axis=None))\n",
    "        items_list[t] = chosen_item_IDs\n",
    "        chosen_item_inds = np.isin(ind_items_full, chosen_item_IDs)\n",
    "        # print(chosen_item_inds.sum())\n",
    "        # print(chosen_item_inds.shape)\n",
    "\n",
    "        # features\n",
    "        item_features = item_features_full[chosen_item_inds, :]\n",
    "        item_features_list[t] = item_features\n",
    "\n",
    "        # rwd1_items\n",
    "        rwd1_items = np.intersect1d(chosen_item_IDs, items_of_SELECTED_USER)\n",
    "        rwd1_items_list[t] = rwd1_items                         \n",
    "        # print(rwd1_items)  \n",
    "        # END of t loop\n",
    "    \n",
    "    np.save(\"preproc_output/list_items_rwd1_\"+str(j)+\".npy\", rwd1_items_list)\n",
    "    np.save(\"preproc_output/list_items_\"+str(j)+\".npy\", items_list)\n",
    "    np.save(\"preproc_output/list_item_features_\"+str(j)+\".npy\", item_features_list)\n",
    "    np.save(\"preproc_output/list_user_history_\"+str(j)+\".npy\", user_history)"
   ]
  },
  {
   "cell_type": "markdown",
   "metadata": {},
   "source": [
    "# Create adjacency matrix"
   ]
  },
  {
   "cell_type": "code",
   "execution_count": 24,
   "metadata": {},
   "outputs": [],
   "source": [
    "adjacency_thin = pd.read_csv('raw_data/user_friends.dat', sep=\"\\t\") "
   ]
  },
  {
   "cell_type": "code",
   "execution_count": 25,
   "metadata": {},
   "outputs": [
    {
     "data": {
      "text/html": [
       "<div>\n",
       "<style scoped>\n",
       "    .dataframe tbody tr th:only-of-type {\n",
       "        vertical-align: middle;\n",
       "    }\n",
       "\n",
       "    .dataframe tbody tr th {\n",
       "        vertical-align: top;\n",
       "    }\n",
       "\n",
       "    .dataframe thead th {\n",
       "        text-align: right;\n",
       "    }\n",
       "</style>\n",
       "<table border=\"1\" class=\"dataframe\">\n",
       "  <thead>\n",
       "    <tr style=\"text-align: right;\">\n",
       "      <th></th>\n",
       "      <th>userID</th>\n",
       "      <th>friendID</th>\n",
       "    </tr>\n",
       "  </thead>\n",
       "  <tbody>\n",
       "    <tr>\n",
       "      <th>0</th>\n",
       "      <td>2</td>\n",
       "      <td>275</td>\n",
       "    </tr>\n",
       "    <tr>\n",
       "      <th>1</th>\n",
       "      <td>2</td>\n",
       "      <td>428</td>\n",
       "    </tr>\n",
       "    <tr>\n",
       "      <th>2</th>\n",
       "      <td>2</td>\n",
       "      <td>515</td>\n",
       "    </tr>\n",
       "    <tr>\n",
       "      <th>3</th>\n",
       "      <td>2</td>\n",
       "      <td>761</td>\n",
       "    </tr>\n",
       "    <tr>\n",
       "      <th>4</th>\n",
       "      <td>2</td>\n",
       "      <td>831</td>\n",
       "    </tr>\n",
       "    <tr>\n",
       "      <th>5</th>\n",
       "      <td>2</td>\n",
       "      <td>909</td>\n",
       "    </tr>\n",
       "    <tr>\n",
       "      <th>6</th>\n",
       "      <td>2</td>\n",
       "      <td>1209</td>\n",
       "    </tr>\n",
       "    <tr>\n",
       "      <th>7</th>\n",
       "      <td>2</td>\n",
       "      <td>1210</td>\n",
       "    </tr>\n",
       "    <tr>\n",
       "      <th>8</th>\n",
       "      <td>2</td>\n",
       "      <td>1230</td>\n",
       "    </tr>\n",
       "    <tr>\n",
       "      <th>9</th>\n",
       "      <td>2</td>\n",
       "      <td>1327</td>\n",
       "    </tr>\n",
       "  </tbody>\n",
       "</table>\n",
       "</div>"
      ],
      "text/plain": [
       "   userID  friendID\n",
       "0       2       275\n",
       "1       2       428\n",
       "2       2       515\n",
       "3       2       761\n",
       "4       2       831\n",
       "5       2       909\n",
       "6       2      1209\n",
       "7       2      1210\n",
       "8       2      1230\n",
       "9       2      1327"
      ]
     },
     "execution_count": 25,
     "metadata": {},
     "output_type": "execute_result"
    }
   ],
   "source": [
    "adjacency_thin[0:10]"
   ]
  },
  {
   "cell_type": "code",
   "execution_count": 26,
   "metadata": {},
   "outputs": [],
   "source": [
    "adjacency_thin.head()\n",
    "G = nx.Graph()\n",
    "G.add_edges_from( list(adjacency_thin.to_records(index=False)) )"
   ]
  },
  {
   "cell_type": "code",
   "execution_count": 27,
   "metadata": {},
   "outputs": [],
   "source": [
    "# save laplacians\n",
    "np.save(\"preproc_output/adjmtx_full.npy\", nx.to_numpy_array(G, nodelist=user_IDs))"
   ]
  }
 ],
 "metadata": {
  "kernelspec": {
   "display_name": "Python 3",
   "language": "python",
   "name": "python3"
  },
  "language_info": {
   "codemirror_mode": {
    "name": "ipython",
    "version": 3
   },
   "file_extension": ".py",
   "mimetype": "text/x-python",
   "name": "python",
   "nbconvert_exporter": "python",
   "pygments_lexer": "ipython3",
   "version": "3.6.10"
  }
 },
 "nbformat": 4,
 "nbformat_minor": 4
}
